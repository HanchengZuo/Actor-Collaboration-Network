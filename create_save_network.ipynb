{
 "cells": [
  {
   "cell_type": "code",
   "execution_count": 1,
   "id": "2ad2c39f-0881-4ce1-94fa-6261577784a0",
   "metadata": {},
   "outputs": [
    {
     "name": "stderr",
     "output_type": "stream",
     "text": [
      "24/01/01 06:13:15 WARN NativeCodeLoader: Unable to load native-hadoop library for your platform... using builtin-java classes where applicable\n",
      "Setting default log level to \"WARN\".\n",
      "To adjust logging level use sc.setLogLevel(newLevel). For SparkR, use setLogLevel(newLevel).\n",
      "24/01/01 06:13:16 WARN Utils: Service 'SparkUI' could not bind on port 4040. Attempting port 4041.\n"
     ]
    }
   ],
   "source": [
    "from pyspark.sql import SparkSession, functions as F\n",
    "from pyspark.sql.types import ArrayType, StringType, StructType, StructField, IntegerType, BooleanType\n",
    "from graphframes import GraphFrame\n",
    "import ast\n",
    "\n",
    "spark = SparkSession.builder \\\n",
    "    .appName(\"GraphFrames\") \\\n",
    "    .config(\"spark.jars\", \"/root/graphframes-0.8.3-spark3.5-s_2.12.jar\") \\\n",
    "    .config(\"spark.driver.memory\", \"192g\") \\\n",
    "    .config(\"spark.executor.memory\", \"192g\") \\\n",
    "    .getOrCreate()\n",
    "spark.sparkContext.setLogLevel(\"ERROR\")"
   ]
  },
  {
   "cell_type": "code",
   "execution_count": 2,
   "id": "836ebf02-83a3-4d5e-b837-288f7c0eb8f6",
   "metadata": {},
   "outputs": [
    {
     "name": "stderr",
     "output_type": "stream",
     "text": [
      "/root/miniconda3/lib/python3.10/site-packages/pyspark/sql/dataframe.py:168: UserWarning: DataFrame.sql_ctx is an internal property, and will be removed in future releases. Use DataFrame.sparkSession instead.\n",
      "  warnings.warn(\n",
      "                                                                                \r"
     ]
    }
   ],
   "source": [
    "def parse_list_from_string(list_str):\n",
    "    try:\n",
    "        return ast.literal_eval(list_str)\n",
    "    except:\n",
    "        return []\n",
    "\n",
    "parse_udf = F.udf(parse_list_from_string, ArrayType(StringType()))\n",
    "\n",
    "def process_movie_row(df):\n",
    "    df = df.withColumn(\"Directors\", parse_udf(\"Directors\"))\n",
    "    df = df.withColumn(\"Cast\", parse_udf(\"Cast\"))\n",
    "    df = df.withColumn(\"Participants\", F.array_union(\"Directors\", \"Cast\"))\n",
    "    return df\n",
    "\n",
    "def build_oscar_dict(oscar_df):\n",
    "    oscar_dict = {}\n",
    "    for row in oscar_df.collect():\n",
    "        name = row['name']\n",
    "        if name not in oscar_dict:\n",
    "            oscar_dict[name] = []\n",
    "        oscar_dict[name].append((row['year_ceremony'], row['winner']))\n",
    "    return oscar_dict\n",
    "\n",
    "def get_oscar_info(name, oscar_dict):\n",
    "    return oscar_dict.get(name, [])\n",
    "\n",
    "def build_film_industry_network(movie_details_df, oscar_awards_df):\n",
    "    movie_details_df = process_movie_row(movie_details_df)\n",
    "    vertices = movie_details_df.select(F.explode(\"Participants\").alias(\"id\")).distinct()\n",
    "\n",
    "    oscar_dict = build_oscar_dict(oscar_awards_df)\n",
    "    get_oscar_info_udf = F.udf(lambda name: get_oscar_info(name, oscar_dict), ArrayType(StructType([\n",
    "        StructField(\"year_ceremony\", IntegerType(), True),\n",
    "        StructField(\"winner\", BooleanType(), True)\n",
    "    ])))\n",
    "\n",
    "    vertices = vertices.withColumn(\"oscars\", get_oscar_info_udf(\"id\"))\n",
    "\n",
    "    movie_details_with_edges = movie_details_df.withColumn(\"src\", F.explode(\"Participants\"))\n",
    "    expanded_edges = movie_details_with_edges.select(\"src\", F.explode(\"Participants\").alias(\"dst\"), \"Release Date\")\n",
    "    edges = expanded_edges.select(F.least(\"src\", \"dst\").alias(\"src\"),\n",
    "                                  F.greatest(\"src\", \"dst\").alias(\"dst\"),\n",
    "                                  \"Release Date\")\n",
    "    edges = edges.filter(\"src != dst\").distinct()\n",
    "\n",
    "    edges = edges.groupBy(\"src\", \"dst\").agg(F.collect_list(\"Release Date\").alias(\"collaborations\"),\n",
    "                                             F.count(\"Release Date\").alias(\"total_collaborations\"))\n",
    "\n",
    "    g = GraphFrame(vertices, edges)\n",
    "\n",
    "    return g\n",
    "\n",
    "if __name__ == \"__main__\":\n",
    "    movie_details_df = spark.read.csv('./datasets/movies_1990_to_2010.csv', header=True, inferSchema=True)\n",
    "    oscar_awards_df = spark.read.csv('./datasets/oscar_before_2010.csv', header=True, inferSchema=True)\n",
    "    network = build_film_industry_network(movie_details_df, oscar_awards_df)\n",
    "    network.vertices.write.format(\"parquet\").save(\"./networkModel/1990_to_2010/vertices\")\n",
    "    network.edges.write.format(\"parquet\").save(\"./networkModel/1990_to_2010/edges\")\n",
    "    spark.stop()"
   ]
  }
 ],
 "metadata": {
  "kernelspec": {
   "display_name": "Python 3 (ipykernel)",
   "language": "python",
   "name": "python3"
  },
  "language_info": {
   "codemirror_mode": {
    "name": "ipython",
    "version": 3
   },
   "file_extension": ".py",
   "mimetype": "text/x-python",
   "name": "python",
   "nbconvert_exporter": "python",
   "pygments_lexer": "ipython3",
   "version": "3.10.8"
  }
 },
 "nbformat": 4,
 "nbformat_minor": 5
}
