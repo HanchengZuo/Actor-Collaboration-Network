{
 "cells": [
  {
   "cell_type": "code",
   "execution_count": 1,
   "id": "a2c3538c-0894-4951-b180-4289b6478883",
   "metadata": {},
   "outputs": [
    {
     "name": "stdout",
     "output_type": "stream",
     "text": [
      "Null values removed: 0\n",
      "Duplicate values removed: 83\n",
      "Total number of movie IDs after cleaning: 971035\n"
     ]
    }
   ],
   "source": [
    "import pandas as pd\n",
    "\n",
    "# Load the dataset\n",
    "df = pd.read_csv('TMDB_movie_dataset_v11.csv')\n",
    "\n",
    "# Select only the column with movie IDs\n",
    "df_id = df[['id']]\n",
    "\n",
    "# Count original number of rows\n",
    "original_count = len(df_id)\n",
    "\n",
    "# Remove rows with null values in the ID column and count them\n",
    "df_id_non_null = df_id.dropna()\n",
    "null_values_removed = original_count - len(df_id_non_null)\n",
    "\n",
    "# Remove duplicate IDs, keeping the first occurrence, and count them\n",
    "df_id_cleaned = df_id_non_null.drop_duplicates()\n",
    "duplicates_removed = len(df_id_non_null) - len(df_id_cleaned)\n",
    "\n",
    "# Count the total number of IDs after cleaning\n",
    "total_ids = len(df_id_cleaned)\n",
    "\n",
    "# Print the count of null values and duplicates removed, and the total number of IDs\n",
    "print(f\"Null values removed: {null_values_removed}\")\n",
    "print(f\"Duplicate values removed: {duplicates_removed}\")\n",
    "print(f\"Total number of movie IDs after cleaning: {total_ids}\")\n",
    "\n",
    "# Save the cleaned dataset with movie IDs to a new CSV file\n",
    "df_id_cleaned.to_csv('cleaned_movie_ids.csv', index=False)"
   ]
  }
 ],
 "metadata": {
  "kernelspec": {
   "display_name": "Python 3 (ipykernel)",
   "language": "python",
   "name": "python3"
  },
  "language_info": {
   "codemirror_mode": {
    "name": "ipython",
    "version": 3
   },
   "file_extension": ".py",
   "mimetype": "text/x-python",
   "name": "python",
   "nbconvert_exporter": "python",
   "pygments_lexer": "ipython3",
   "version": "3.10.13"
  }
 },
 "nbformat": 4,
 "nbformat_minor": 5
}
