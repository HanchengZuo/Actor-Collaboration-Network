{
 "cells": [
  {
   "cell_type": "code",
   "execution_count": 1,
   "id": "fb08bf4b-8251-4e0c-ad04-40665385dea1",
   "metadata": {},
   "outputs": [
    {
     "name": "stdout",
     "output_type": "stream",
     "text": [
      "   year_film  year_ceremony  ceremony category                 name  \\\n",
      "0       1927           1928         1    ACTOR  Richard Barthelmess   \n",
      "1       1927           1928         1    ACTOR        Emil Jannings   \n",
      "2       1927           1928         1  ACTRESS       Louise Dresser   \n",
      "3       1927           1928         1  ACTRESS         Janet Gaynor   \n",
      "4       1927           1928         1  ACTRESS       Gloria Swanson   \n",
      "\n",
      "               film  winner  \n",
      "0         The Noose   False  \n",
      "1  The Last Command    True  \n",
      "2   A Ship Comes In   False  \n",
      "3        7th Heaven    True  \n",
      "4    Sadie Thompson   False  \n",
      "Modified dataset has been saved as 'modified_oscar_award.csv'\n"
     ]
    }
   ],
   "source": [
    "import pandas as pd\n",
    "\n",
    "# Load the dataset\n",
    "df = pd.read_csv(\"the_oscar_award.csv\")\n",
    "\n",
    "# List of categories to keep\n",
    "categories_to_keep = [\n",
    "    \"ACTOR\",\n",
    "    \"ACTRESS\",\n",
    "    \"DIRECTING (Comedy Picture)\",\n",
    "    \"DIRECTING (Dramatic Picture)\",\n",
    "    \"DIRECTING\",\n",
    "    \"ACTOR IN A SUPPORTING ROLE\",\n",
    "    \"ACTRESS IN A SUPPORTING ROLE\",\n",
    "    \"ACTOR IN A LEADING ROLE\",\n",
    "    \"ACTRESS IN A LEADING ROLE\"\n",
    "]\n",
    "\n",
    "# Filter the dataframe to keep only the specified categories\n",
    "df = df[df['category'].isin(categories_to_keep)]\n",
    "\n",
    "# Display the modified dataframe\n",
    "print(df.head())\n",
    "\n",
    "# Save the modified dataframe to a new CSV file\n",
    "df.to_csv(\"../modified_oscar_award.csv\", index=False)\n",
    "\n",
    "# Notify that the file has been saved\n",
    "print(\"Modified dataset has been saved as 'modified_oscar_award.csv'\")"
   ]
  },
  {
   "cell_type": "code",
   "execution_count": 1,
   "id": "6712c670-7d17-45d7-a923-a0b95c3abe70",
   "metadata": {},
   "outputs": [
    {
     "name": "stdout",
     "output_type": "stream",
     "text": [
      "Unique actors: 860\n",
      "Unique directors: 212\n"
     ]
    }
   ],
   "source": [
    "import pandas as pd\n",
    "\n",
    "# Load the dataset\n",
    "df = pd.read_csv(\"../oscar_movies_before_2010.csv\")\n",
    "\n",
    "# Define the categories for actors and directors\n",
    "actor_categories = [\n",
    "    \"ACTOR\",\n",
    "    \"ACTRESS\",\n",
    "    \"ACTOR IN A SUPPORTING ROLE\",\n",
    "    \"ACTRESS IN A SUPPORTING ROLE\",\n",
    "    \"ACTOR IN A LEADING ROLE\",\n",
    "    \"ACTRESS IN A LEADING ROLE\"\n",
    "]\n",
    "director_categories = [\n",
    "    \"DIRECTING (Comedy Picture)\",\n",
    "    \"DIRECTING (Dramatic Picture)\",\n",
    "    \"DIRECTING\"\n",
    "]\n",
    "\n",
    "# Filter the dataframe for actors and directors\n",
    "actor_df = df[df['category'].isin(actor_categories)]\n",
    "director_df = df[df['category'].isin(director_categories)]\n",
    "\n",
    "# Get the unique counts of actors and directors\n",
    "unique_actors = actor_df['name'].nunique()\n",
    "unique_directors = director_df['name'].nunique()\n",
    "\n",
    "# Print the counts\n",
    "print(f\"Unique actors: {unique_actors}\")\n",
    "print(f\"Unique directors: {unique_directors}\")"
   ]
  },
  {
   "cell_type": "code",
   "execution_count": null,
   "id": "62693e7a-794e-4030-ab29-6362a719f50b",
   "metadata": {},
   "outputs": [],
   "source": []
  }
 ],
 "metadata": {
  "kernelspec": {
   "display_name": "Python 3 (ipykernel)",
   "language": "python",
   "name": "python3"
  },
  "language_info": {
   "codemirror_mode": {
    "name": "ipython",
    "version": 3
   },
   "file_extension": ".py",
   "mimetype": "text/x-python",
   "name": "python",
   "nbconvert_exporter": "python",
   "pygments_lexer": "ipython3",
   "version": "3.10.13"
  }
 },
 "nbformat": 4,
 "nbformat_minor": 5
}
