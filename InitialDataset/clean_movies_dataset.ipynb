{
 "cells": [
  {
   "cell_type": "code",
   "execution_count": 1,
   "id": "ac49f499-8ff8-45c9-9682-a14bfc1d741b",
   "metadata": {},
   "outputs": [
    {
     "name": "stdout",
     "output_type": "stream",
     "text": [
      "Processing 722580 movies...\n",
      "Processed 0 / 722580 movies...\n",
      "Processed 100000 / 722580 movies...\n",
      "Processed 200000 / 722580 movies...\n",
      "Processed 300000 / 722580 movies...\n",
      "Processed 400000 / 722580 movies...\n",
      "Processed 500000 / 722580 movies...\n",
      "Processed 600000 / 722580 movies...\n",
      "Processed 700000 / 722580 movies...\n",
      "         actor_1           actor_2        movie_title release_date\n",
      "0  Jason Statham           Wu Jing  Meg 2: The Trench   2023-08-02\n",
      "1  Jason Statham  Shuya Sophia Cai  Meg 2: The Trench   2023-08-02\n",
      "2  Jason Statham      Sergio Peris  Meg 2: The Trench   2023-08-02\n",
      "3  Jason Statham          Mencheta  Meg 2: The Trench   2023-08-02\n",
      "4  Jason Statham    Skyler Samuels  Meg 2: The Trench   2023-08-02\n",
      "Data processing completed. The cleaned dataset contains 50216705 entries and is saved as 'actor_collaborations.csv'.\n"
     ]
    }
   ],
   "source": [
    "import pandas as pd\n",
    "from itertools import combinations\n",
    "\n",
    "# Path to the original dataset\n",
    "file_path = './movies.csv'\n",
    "\n",
    "# Reading the CSV file\n",
    "df = pd.read_csv(file_path)\n",
    "\n",
    "# Cleaning and transforming the data\n",
    "# Splitting the actors list and creating new rows for each pair of actors\n",
    "cleaned_data = []\n",
    "total_rows = len(df)\n",
    "print(f\"Processing {total_rows} movies...\")\n",
    "\n",
    "for index, row in df.iterrows():\n",
    "    # Showing progress\n",
    "    if index % 100000 == 0:\n",
    "        print(f\"Processed {index} / {total_rows} movies...\")\n",
    "\n",
    "    # Handling missing or NaN values in 'credits' column\n",
    "    if pd.isna(row['credits']):\n",
    "        continue\n",
    "\n",
    "    actors = row['credits'].split('-')\n",
    "    for actor_pair in combinations(actors, 2):\n",
    "        cleaned_data.append({\n",
    "            'actor_1': actor_pair[0],\n",
    "            'actor_2': actor_pair[1],\n",
    "            'movie_title': row['title'],\n",
    "            'release_date': row['release_date']\n",
    "        })\n",
    "\n",
    "# Converting to DataFrame\n",
    "cleaned_df = pd.DataFrame(cleaned_data)\n",
    "\n",
    "# Displaying a few rows to check\n",
    "print(cleaned_df.head())\n",
    "\n",
    "# Saving the cleaned data to a new CSV file, in the parent directory\n",
    "cleaned_df.to_csv('../actor_collaborations.csv', index=False)\n",
    "\n",
    "# Printing the total number of entries in the cleaned dataset\n",
    "print(f\"Data processing completed. The cleaned dataset contains {len(cleaned_df)} entries and is saved as 'actor_collaborations.csv'.\")"
   ]
  }
 ],
 "metadata": {
  "kernelspec": {
   "display_name": "Python 3 (ipykernel)",
   "language": "python",
   "name": "python3"
  },
  "language_info": {
   "codemirror_mode": {
    "name": "ipython",
    "version": 3
   },
   "file_extension": ".py",
   "mimetype": "text/x-python",
   "name": "python",
   "nbconvert_exporter": "python",
   "pygments_lexer": "ipython3",
   "version": "3.10.13"
  }
 },
 "nbformat": 4,
 "nbformat_minor": 5
}
